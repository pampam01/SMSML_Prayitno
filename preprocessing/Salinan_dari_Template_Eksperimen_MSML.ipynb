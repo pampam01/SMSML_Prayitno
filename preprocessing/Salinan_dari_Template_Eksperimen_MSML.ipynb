{
  "cells": [
    {
      "cell_type": "markdown",
      "metadata": {
        "id": "kZLRMFl0JyyQ"
      },
      "source": [
        "# **1. Perkenalan Dataset**\n"
      ]
    },
    {
      "cell_type": "markdown",
      "metadata": {
        "id": "hssSDn-5n3HR"
      },
      "source": [
        "Tahap pertama, Anda harus mencari dan menggunakan dataset dengan ketentuan sebagai berikut:\n",
        "\n",
        "1. **Sumber Dataset**:  \n",
        "   Dataset dapat diperoleh dari berbagai sumber, seperti public repositories (*Kaggle*, *UCI ML Repository*, *Open Data*) atau data primer yang Anda kumpulkan sendiri.\n"
      ]
    },
    {
      "cell_type": "markdown",
      "metadata": {},
      "source": [
        "UCI Heart Disease Data"
      ]
    },
    {
      "cell_type": "markdown",
      "metadata": {},
      "source": [
        "This is a multivariate type of dataset which means providing or involving a variety of separate mathematical or statistical variables, multivariate numerical data analysis. It is composed of 14 attributes which are age, sex, chest pain type, resting blood pressure, serum cholesterol, fasting blood sugar, resting electrocardiographic results, maximum heart rate achieved, exercise-induced angina, oldpeak — ST depression induced by exercise relative to rest, the slope of the peak exercise ST segment, number of major vessels and Thalassemia. This database includes 76 attributes, but all published studies relate to the use of a subset of 14 of them. The Cleveland database is the only one used by ML researchers to date. One of the major tasks on this dataset is to predict based on the given attributes of a patient that whether that particular person has heart disease or not and other is the experimental task to diagnose and find out various insights from this dataset which could help in understanding the problem more"
      ]
    },
    {
      "cell_type": "markdown",
      "metadata": {},
      "source": [
        "id (Unique id for each patient)\n",
        "age (Age of the patient in years)\n",
        "origin (place of study)\n",
        "sex (Male/Female)\n",
        "cp chest pain type ([typical angina, atypical angina, non-anginal, asymptomatic])\n",
        "trestbps resting blood pressure (resting blood pressure (in mm Hg on admission to the hospital))\n",
        "chol (serum cholesterol in mg/dl)\n",
        "fbs (if fasting blood sugar > 120 mg/dl)\n",
        "restecg (resting electrocardiographic results)\n",
        "-- Values: [normal, stt abnormality, lv hypertrophy]\n",
        "thalach: maximum heart rate achieved\n",
        "exang: exercise-induced angina (True/ False)\n",
        "oldpeak: ST depression induced by exercise relative to rest\n",
        "slope: the slope of the peak exercise ST segment\n",
        "ca: number of major vessels (0-3) colored by fluoroscopy\n",
        "thal: [normal; fixed defect; reversible defect]\n",
        "num: the predicted attribute\n",
        "Acknowledgements\n",
        "Creators:\n",
        "Hungarian Institute of Cardiology. Budapest: Andras Janosi, M.D.\n",
        "University Hospital, Zurich, Switzerland: William Steinbrunn, M.D.\n",
        "University Hospital, Basel, Switzerland: Matthias Pfisterer, M.D.\n",
        "V.A. Medical Center, Long Beach and Cleveland Clinic Foundation: Robert Detrano, M.D., Ph.D."
      ]
    },
    {
      "cell_type": "markdown",
      "metadata": {
        "id": "fKADPWcFKlj3"
      },
      "source": [
        "# **2. Import Library**"
      ]
    },
    {
      "cell_type": "markdown",
      "metadata": {
        "id": "LgA3ERnVn84N"
      },
      "source": [
        "Pada tahap ini, Anda perlu mengimpor beberapa pustaka (library) Python yang dibutuhkan untuk analisis data dan pembangunan model machine learning atau deep learning."
      ]
    },
    {
      "cell_type": "code",
      "execution_count": 7,
      "metadata": {
        "id": "BlmvjLY9M4Yj"
      },
      "outputs": [],
      "source": [
        "\n",
        "\n",
        "import pandas as pd\n",
        "import numpy as np\n",
        "import matplotlib.pyplot as plt\n",
        "import seaborn as sns\n",
        "import os\n",
        "\n",
        "\n",
        "from sklearn.preprocessing import LabelEncoder\n",
        "from sklearn.experimental import enable_iterative_imputer\n",
        "from sklearn.impute import IterativeImputer\n",
        "\n",
        "\n",
        "# Mengatur agar plot seaborn memiliki style yang lebih menarik\n",
        "sns.set_theme(style=\"whitegrid\")"
      ]
    },
    {
      "cell_type": "markdown",
      "metadata": {
        "id": "f3YIEnAFKrKL"
      },
      "source": [
        "# **3. Memuat Dataset**"
      ]
    },
    {
      "cell_type": "markdown",
      "metadata": {
        "id": "Ey3ItwTen_7E"
      },
      "source": [
        "Pada tahap ini, Anda perlu memuat dataset ke dalam notebook. Jika dataset dalam format CSV, Anda bisa menggunakan pustaka pandas untuk membacanya. Pastikan untuk mengecek beberapa baris awal dataset untuk memahami strukturnya dan memastikan data telah dimuat dengan benar.\n",
        "\n",
        "Jika dataset berada di Google Drive, pastikan Anda menghubungkan Google Drive ke Colab terlebih dahulu. Setelah dataset berhasil dimuat, langkah berikutnya adalah memeriksa kesesuaian data dan siap untuk dianalisis lebih lanjut.\n",
        "\n",
        "Jika dataset berupa unstructured data, silakan sesuaikan dengan format seperti kelas Machine Learning Pengembangan atau Machine Learning Terapan"
      ]
    },
    {
      "cell_type": "code",
      "execution_count": 4,
      "metadata": {
        "id": "GHCGNTyrM5fS"
      },
      "outputs": [
        {
          "name": "stdout",
          "output_type": "stream",
          "text": [
            "Lima baris pertama dari dataset:\n"
          ]
        },
        {
          "data": {
            "text/html": [
              "<div>\n",
              "<style scoped>\n",
              "    .dataframe tbody tr th:only-of-type {\n",
              "        vertical-align: middle;\n",
              "    }\n",
              "\n",
              "    .dataframe tbody tr th {\n",
              "        vertical-align: top;\n",
              "    }\n",
              "\n",
              "    .dataframe thead th {\n",
              "        text-align: right;\n",
              "    }\n",
              "</style>\n",
              "<table border=\"1\" class=\"dataframe\">\n",
              "  <thead>\n",
              "    <tr style=\"text-align: right;\">\n",
              "      <th></th>\n",
              "      <th>id</th>\n",
              "      <th>age</th>\n",
              "      <th>sex</th>\n",
              "      <th>dataset</th>\n",
              "      <th>cp</th>\n",
              "      <th>trestbps</th>\n",
              "      <th>chol</th>\n",
              "      <th>fbs</th>\n",
              "      <th>restecg</th>\n",
              "      <th>thalch</th>\n",
              "      <th>exang</th>\n",
              "      <th>oldpeak</th>\n",
              "      <th>slope</th>\n",
              "      <th>ca</th>\n",
              "      <th>thal</th>\n",
              "      <th>num</th>\n",
              "    </tr>\n",
              "  </thead>\n",
              "  <tbody>\n",
              "    <tr>\n",
              "      <th>0</th>\n",
              "      <td>1</td>\n",
              "      <td>63</td>\n",
              "      <td>Male</td>\n",
              "      <td>Cleveland</td>\n",
              "      <td>typical angina</td>\n",
              "      <td>145.0</td>\n",
              "      <td>233.0</td>\n",
              "      <td>True</td>\n",
              "      <td>lv hypertrophy</td>\n",
              "      <td>150.0</td>\n",
              "      <td>False</td>\n",
              "      <td>2.3</td>\n",
              "      <td>downsloping</td>\n",
              "      <td>0.0</td>\n",
              "      <td>fixed defect</td>\n",
              "      <td>0</td>\n",
              "    </tr>\n",
              "    <tr>\n",
              "      <th>1</th>\n",
              "      <td>2</td>\n",
              "      <td>67</td>\n",
              "      <td>Male</td>\n",
              "      <td>Cleveland</td>\n",
              "      <td>asymptomatic</td>\n",
              "      <td>160.0</td>\n",
              "      <td>286.0</td>\n",
              "      <td>False</td>\n",
              "      <td>lv hypertrophy</td>\n",
              "      <td>108.0</td>\n",
              "      <td>True</td>\n",
              "      <td>1.5</td>\n",
              "      <td>flat</td>\n",
              "      <td>3.0</td>\n",
              "      <td>normal</td>\n",
              "      <td>2</td>\n",
              "    </tr>\n",
              "    <tr>\n",
              "      <th>2</th>\n",
              "      <td>3</td>\n",
              "      <td>67</td>\n",
              "      <td>Male</td>\n",
              "      <td>Cleveland</td>\n",
              "      <td>asymptomatic</td>\n",
              "      <td>120.0</td>\n",
              "      <td>229.0</td>\n",
              "      <td>False</td>\n",
              "      <td>lv hypertrophy</td>\n",
              "      <td>129.0</td>\n",
              "      <td>True</td>\n",
              "      <td>2.6</td>\n",
              "      <td>flat</td>\n",
              "      <td>2.0</td>\n",
              "      <td>reversable defect</td>\n",
              "      <td>1</td>\n",
              "    </tr>\n",
              "    <tr>\n",
              "      <th>3</th>\n",
              "      <td>4</td>\n",
              "      <td>37</td>\n",
              "      <td>Male</td>\n",
              "      <td>Cleveland</td>\n",
              "      <td>non-anginal</td>\n",
              "      <td>130.0</td>\n",
              "      <td>250.0</td>\n",
              "      <td>False</td>\n",
              "      <td>normal</td>\n",
              "      <td>187.0</td>\n",
              "      <td>False</td>\n",
              "      <td>3.5</td>\n",
              "      <td>downsloping</td>\n",
              "      <td>0.0</td>\n",
              "      <td>normal</td>\n",
              "      <td>0</td>\n",
              "    </tr>\n",
              "    <tr>\n",
              "      <th>4</th>\n",
              "      <td>5</td>\n",
              "      <td>41</td>\n",
              "      <td>Female</td>\n",
              "      <td>Cleveland</td>\n",
              "      <td>atypical angina</td>\n",
              "      <td>130.0</td>\n",
              "      <td>204.0</td>\n",
              "      <td>False</td>\n",
              "      <td>lv hypertrophy</td>\n",
              "      <td>172.0</td>\n",
              "      <td>False</td>\n",
              "      <td>1.4</td>\n",
              "      <td>upsloping</td>\n",
              "      <td>0.0</td>\n",
              "      <td>normal</td>\n",
              "      <td>0</td>\n",
              "    </tr>\n",
              "  </tbody>\n",
              "</table>\n",
              "</div>"
            ],
            "text/plain": [
              "   id  age     sex    dataset               cp  trestbps   chol    fbs  \\\n",
              "0   1   63    Male  Cleveland   typical angina     145.0  233.0   True   \n",
              "1   2   67    Male  Cleveland     asymptomatic     160.0  286.0  False   \n",
              "2   3   67    Male  Cleveland     asymptomatic     120.0  229.0  False   \n",
              "3   4   37    Male  Cleveland      non-anginal     130.0  250.0  False   \n",
              "4   5   41  Female  Cleveland  atypical angina     130.0  204.0  False   \n",
              "\n",
              "          restecg  thalch  exang  oldpeak        slope   ca  \\\n",
              "0  lv hypertrophy   150.0  False      2.3  downsloping  0.0   \n",
              "1  lv hypertrophy   108.0   True      1.5         flat  3.0   \n",
              "2  lv hypertrophy   129.0   True      2.6         flat  2.0   \n",
              "3          normal   187.0  False      3.5  downsloping  0.0   \n",
              "4  lv hypertrophy   172.0  False      1.4    upsloping  0.0   \n",
              "\n",
              "                thal  num  \n",
              "0       fixed defect    0  \n",
              "1             normal    2  \n",
              "2  reversable defect    1  \n",
              "3             normal    0  \n",
              "4             normal    0  "
            ]
          },
          "metadata": {},
          "output_type": "display_data"
        },
        {
          "name": "stdout",
          "output_type": "stream",
          "text": [
            "\n",
            "Informasi Dataset:\n",
            "<class 'pandas.core.frame.DataFrame'>\n",
            "RangeIndex: 920 entries, 0 to 919\n",
            "Data columns (total 16 columns):\n",
            " #   Column    Non-Null Count  Dtype  \n",
            "---  ------    --------------  -----  \n",
            " 0   id        920 non-null    int64  \n",
            " 1   age       920 non-null    int64  \n",
            " 2   sex       920 non-null    object \n",
            " 3   dataset   920 non-null    object \n",
            " 4   cp        920 non-null    object \n",
            " 5   trestbps  861 non-null    float64\n",
            " 6   chol      890 non-null    float64\n",
            " 7   fbs       830 non-null    object \n",
            " 8   restecg   918 non-null    object \n",
            " 9   thalch    865 non-null    float64\n",
            " 10  exang     865 non-null    object \n",
            " 11  oldpeak   858 non-null    float64\n",
            " 12  slope     611 non-null    object \n",
            " 13  ca        309 non-null    float64\n",
            " 14  thal      434 non-null    object \n",
            " 15  num       920 non-null    int64  \n",
            "dtypes: float64(5), int64(3), object(8)\n",
            "memory usage: 115.1+ KB\n"
          ]
        }
      ],
      "source": [
        "\n",
        "file_path = '../heart_disease_dataset/heart_disease_uci.csv'\n",
        "\n",
        "# Membaca dataset menggunakan pandas\n",
        "df = pd.read_csv(file_path)\n",
        "\n",
        "# Menampilkan 5 baris pertama untuk melihat sampel data\n",
        "print(\"Lima baris pertama dari dataset:\")\n",
        "display(df.head())\n",
        "\n",
        "# Menampilkan informasi ringkas tentang dataset\n",
        "print(\"\\nInformasi Dataset:\")\n",
        "df.info()"
      ]
    },
    {
      "cell_type": "markdown",
      "metadata": {
        "id": "bgZkbJLpK9UR"
      },
      "source": [
        "# **4. Exploratory Data Analysis (EDA)**\n",
        "\n",
        "Pada tahap ini, Anda akan melakukan **Exploratory Data Analysis (EDA)** untuk memahami karakteristik dataset.\n",
        "\n",
        "Tujuan dari EDA adalah untuk memperoleh wawasan awal yang mendalam mengenai data dan menentukan langkah selanjutnya dalam analisis atau pemodelan."
      ]
    },
    {
      "cell_type": "code",
      "execution_count": 8,
      "metadata": {
        "id": "dKeejtvxM6X1"
      },
      "outputs": [
        {
          "name": "stdout",
          "output_type": "stream",
          "text": [
            "Jumlah Missing Values per Kolom:\n",
            "ca          611\n",
            "thal        486\n",
            "slope       309\n",
            "fbs          90\n",
            "oldpeak      62\n",
            "trestbps     59\n",
            "exang        55\n",
            "thalch       55\n",
            "chol         30\n",
            "restecg       2\n",
            "cp            0\n",
            "dataset       0\n",
            "id            0\n",
            "age           0\n",
            "sex           0\n",
            "num           0\n",
            "dtype: int64\n",
            "----------------------------------------\n",
            "\n",
            "Distribusi Kelas Target (num):\n",
            "num\n",
            "0    411\n",
            "1    265\n",
            "2    109\n",
            "3    107\n",
            "4     28\n",
            "Name: count, dtype: int64\n"
          ]
        },
        {
          "data": {
            "image/png": "[encoded data removed]",
            "text/plain": [
              "<Figure size 640x480 with 1 Axes>"
            ]
          },
          "metadata": {},
          "output_type": "display_data"
        },
        {
          "name": "stdout",
          "output_type": "stream",
          "text": [
            "----------------------------------------\n",
            "\n",
            "Distribusi Jenis Nyeri Dada (cp):\n",
            "cp\n",
            "asymptomatic       496\n",
            "non-anginal        204\n",
            "atypical angina    174\n",
            "typical angina      46\n",
            "Name: count, dtype: int64\n"
          ]
        },
        {
          "data": {
            "image/png": "[encoded data removed]",
            "text/plain": [
              "<Figure size 640x480 with 1 Axes>"
            ]
          },
          "metadata": {},
          "output_type": "display_data"
        }
      ],
      "source": [
        "\n",
        "# 1. Cek jumlah nilai yang hilang di setiap kolom\n",
        "print(\"Jumlah Missing Values per Kolom:\")\n",
        "print(df.isnull().sum().sort_values(ascending=False))\n",
        "print(\"-\" * 40)\n",
        "\n",
        "# 2. Analisis kolom target 'num'\n",
        "# Kolom ini menunjukkan tingkat penyakit jantung (0=tidak ada, 1-4=ada)\n",
        "print(\"\\nDistribusi Kelas Target (num):\")\n",
        "print(df['num'].value_counts())\n",
        "sns.countplot(x='num', data=df)\n",
        "plt.title('Distribusi Tingkat Penyakit Jantung (0-4)')\n",
        "plt.show()\n",
        "print(\"-\" * 40)\n",
        "\n",
        "# 3. Analisis kolom kategorikal lain, contohnya 'cp' (jenis nyeri dada)\n",
        "print(\"\\nDistribusi Jenis Nyeri Dada (cp):\")\n",
        "print(df['cp'].value_counts())\n",
        "sns.countplot(x='cp', data=df, hue='sex')\n",
        "plt.title('Distribusi Nyeri Dada Berdasarkan Jenis Kelamin')\n",
        "plt.xticks(rotation=45)\n",
        "plt.show()"
      ]
    },
    {
      "cell_type": "markdown",
      "metadata": {
        "id": "cpgHfgnSK3ip"
      },
      "source": [
        "# **5. Data Preprocessing**"
      ]
    },
    {
      "cell_type": "markdown",
      "metadata": {
        "id": "COf8KUPXLg5r"
      },
      "source": [
        "Pada tahap ini, data preprocessing adalah langkah penting untuk memastikan kualitas data sebelum digunakan dalam model machine learning.\n",
        "\n",
        "Jika Anda menggunakan data teks, data mentah sering kali mengandung nilai kosong, duplikasi, atau rentang nilai yang tidak konsisten, yang dapat memengaruhi kinerja model. Oleh karena itu, proses ini bertujuan untuk membersihkan dan mempersiapkan data agar analisis berjalan optimal.\n",
        "\n",
        "Berikut adalah tahapan-tahapan yang bisa dilakukan, tetapi **tidak terbatas** pada:\n",
        "1. Menghapus atau Menangani Data Kosong (Missing Values)\n",
        "2. Menghapus Data Duplikat\n",
        "3. Normalisasi atau Standarisasi Fitur\n",
        "4. Deteksi dan Penanganan Outlier\n",
        "5. Encoding Data Kategorikal\n",
        "6. Binning (Pengelompokan Data)\n",
        "\n",
        "Cukup sesuaikan dengan karakteristik data yang kamu gunakan yah. Khususnya ketika kami menggunakan data tidak terstruktur."
      ]
    },
    {
      "cell_type": "code",
      "execution_count": 11,
      "metadata": {
        "id": "Og8pGV0-iDLz"
      },
      "outputs": [
        {
          "name": "stdout",
          "output_type": "stream",
          "text": [
            "Kolom 'target' biner berhasil dibuat.\n",
            "Kolom yang tidak diperlukan (id, dataset, num) telah dihapus.\n",
            "Mengubah 60 nilai 0 pada 'trestbps' menjadi NaN.\n",
            "Semua kolom kategorikal telah di-encode menjadi angka.\n",
            "Semua nilai yang hilang (missing values) telah diisi menggunakan IterativeImputer.\n",
            "\n",
            "Memeriksa kembali missing values setelah dibersihkan:\n",
            "age         0\n",
            "sex         0\n",
            "cp          0\n",
            "trestbps    0\n",
            "chol        0\n",
            "fbs         0\n",
            "restecg     0\n",
            "thalch      0\n",
            "exang       0\n",
            "oldpeak     0\n",
            "slope       0\n",
            "ca          0\n",
            "thal        0\n",
            "target      0\n",
            "dtype: int64\n",
            "\n",
            "Dataset bersih berhasil disimpan di: ./heart_disease_preprocessing\\heart_cleaned.csv\n",
            "\n",
            "Contoh 5 baris pertama dari data yang sudah bersih:\n"
          ]
        },
        {
          "data": {
            "text/html": [
              "<div>\n",
              "<style scoped>\n",
              "    .dataframe tbody tr th:only-of-type {\n",
              "        vertical-align: middle;\n",
              "    }\n",
              "\n",
              "    .dataframe tbody tr th {\n",
              "        vertical-align: top;\n",
              "    }\n",
              "\n",
              "    .dataframe thead th {\n",
              "        text-align: right;\n",
              "    }\n",
              "</style>\n",
              "<table border=\"1\" class=\"dataframe\">\n",
              "  <thead>\n",
              "    <tr style=\"text-align: right;\">\n",
              "      <th></th>\n",
              "      <th>age</th>\n",
              "      <th>sex</th>\n",
              "      <th>cp</th>\n",
              "      <th>trestbps</th>\n",
              "      <th>chol</th>\n",
              "      <th>fbs</th>\n",
              "      <th>restecg</th>\n",
              "      <th>thalch</th>\n",
              "      <th>exang</th>\n",
              "      <th>oldpeak</th>\n",
              "      <th>slope</th>\n",
              "      <th>ca</th>\n",
              "      <th>thal</th>\n",
              "      <th>target</th>\n",
              "    </tr>\n",
              "  </thead>\n",
              "  <tbody>\n",
              "    <tr>\n",
              "      <th>0</th>\n",
              "      <td>63.0</td>\n",
              "      <td>1.0</td>\n",
              "      <td>3.0</td>\n",
              "      <td>145.0</td>\n",
              "      <td>233.0</td>\n",
              "      <td>1.0</td>\n",
              "      <td>0.0</td>\n",
              "      <td>150.0</td>\n",
              "      <td>0.0</td>\n",
              "      <td>2.3</td>\n",
              "      <td>0.0</td>\n",
              "      <td>0.0</td>\n",
              "      <td>0.0</td>\n",
              "      <td>0.0</td>\n",
              "    </tr>\n",
              "    <tr>\n",
              "      <th>1</th>\n",
              "      <td>67.0</td>\n",
              "      <td>1.0</td>\n",
              "      <td>0.0</td>\n",
              "      <td>160.0</td>\n",
              "      <td>286.0</td>\n",
              "      <td>0.0</td>\n",
              "      <td>0.0</td>\n",
              "      <td>108.0</td>\n",
              "      <td>1.0</td>\n",
              "      <td>1.5</td>\n",
              "      <td>1.0</td>\n",
              "      <td>3.0</td>\n",
              "      <td>2.0</td>\n",
              "      <td>1.0</td>\n",
              "    </tr>\n",
              "    <tr>\n",
              "      <th>2</th>\n",
              "      <td>67.0</td>\n",
              "      <td>1.0</td>\n",
              "      <td>0.0</td>\n",
              "      <td>120.0</td>\n",
              "      <td>229.0</td>\n",
              "      <td>0.0</td>\n",
              "      <td>0.0</td>\n",
              "      <td>129.0</td>\n",
              "      <td>1.0</td>\n",
              "      <td>2.6</td>\n",
              "      <td>1.0</td>\n",
              "      <td>2.0</td>\n",
              "      <td>3.0</td>\n",
              "      <td>1.0</td>\n",
              "    </tr>\n",
              "    <tr>\n",
              "      <th>3</th>\n",
              "      <td>37.0</td>\n",
              "      <td>1.0</td>\n",
              "      <td>2.0</td>\n",
              "      <td>130.0</td>\n",
              "      <td>250.0</td>\n",
              "      <td>0.0</td>\n",
              "      <td>2.0</td>\n",
              "      <td>187.0</td>\n",
              "      <td>0.0</td>\n",
              "      <td>3.5</td>\n",
              "      <td>0.0</td>\n",
              "      <td>0.0</td>\n",
              "      <td>2.0</td>\n",
              "      <td>0.0</td>\n",
              "    </tr>\n",
              "    <tr>\n",
              "      <th>4</th>\n",
              "      <td>41.0</td>\n",
              "      <td>0.0</td>\n",
              "      <td>1.0</td>\n",
              "      <td>130.0</td>\n",
              "      <td>204.0</td>\n",
              "      <td>0.0</td>\n",
              "      <td>0.0</td>\n",
              "      <td>172.0</td>\n",
              "      <td>0.0</td>\n",
              "      <td>1.4</td>\n",
              "      <td>3.0</td>\n",
              "      <td>0.0</td>\n",
              "      <td>2.0</td>\n",
              "      <td>0.0</td>\n",
              "    </tr>\n",
              "  </tbody>\n",
              "</table>\n",
              "</div>"
            ],
            "text/plain": [
              "    age  sex   cp  trestbps   chol  fbs  restecg  thalch  exang  oldpeak  \\\n",
              "0  63.0  1.0  3.0     145.0  233.0  1.0      0.0   150.0    0.0      2.3   \n",
              "1  67.0  1.0  0.0     160.0  286.0  0.0      0.0   108.0    1.0      1.5   \n",
              "2  67.0  1.0  0.0     120.0  229.0  0.0      0.0   129.0    1.0      2.6   \n",
              "3  37.0  1.0  2.0     130.0  250.0  0.0      2.0   187.0    0.0      3.5   \n",
              "4  41.0  0.0  1.0     130.0  204.0  0.0      0.0   172.0    0.0      1.4   \n",
              "\n",
              "   slope   ca  thal  target  \n",
              "0    0.0  0.0   0.0     0.0  \n",
              "1    1.0  3.0   2.0     1.0  \n",
              "2    1.0  2.0   3.0     1.0  \n",
              "3    0.0  0.0   2.0     0.0  \n",
              "4    3.0  0.0   2.0     0.0  "
            ]
          },
          "metadata": {},
          "output_type": "display_data"
        }
      ],
      "source": [
        "\n",
        "# Buat salinan dataframe agar data asli tidak berubah\n",
        "df_clean = df.copy()\n",
        "\n",
        "# 1. Membuat Target Biner (Sakit vs Tidak Sakit)\n",
        "# Untuk menyederhanakan masalah, kita ubah 'num' (0-4) menjadi 'target' (0 atau 1).\n",
        "# 0 = Tidak sakit, 1 = Sakit (jika num > 0)\n",
        "df_clean['target'] = df_clean['num'].apply(lambda x: 1 if x > 0 else 0)\n",
        "print(\"Kolom 'target' biner berhasil dibuat.\")\n",
        "\n",
        "# 2. Menghapus Kolom yang Tidak Diperlukan\n",
        "# Kolom 'id' dan 'dataset' tidak relevan untuk prediksi. Kolom 'num' sudah diganti 'target'.\n",
        "df_clean = df_clean.drop(['id', 'dataset', 'num'], axis=1)\n",
        "print(\"Kolom yang tidak diperlukan (id, dataset, num) telah dihapus.\")\n",
        "\n",
        "# 3. Menangani Data Tidak Logis (Outlier)\n",
        "# Tekanan darah (trestbps) tidak mungkin 0. Kita akan anggap ini sebagai nilai hilang (NaN).\n",
        "df_clean['trestbps'] = df_clean['trestbps'].replace(0, np.nan)\n",
        "print(f\"Mengubah {df_clean['trestbps'].isnull().sum()} nilai 0 pada 'trestbps' menjadi NaN.\")\n",
        "\n",
        "# 4. Encoding Kolom Kategorikal menjadi Angka\n",
        "# Imputer hanya bisa bekerja pada data numerik. Jadi kita ubah dulu kolom object menjadi angka.\n",
        "categorical_cols = df_clean.select_dtypes(include=['object', 'bool']).columns\n",
        "label_encoders = {}\n",
        "\n",
        "for col in categorical_cols:\n",
        "    le = LabelEncoder()\n",
        "    # Gunakan .astype(str) untuk menangani nilai NaN dan tipe data campuran\n",
        "    df_clean[col] = le.fit_transform(df_clean[col].astype(str))\n",
        "    label_encoders[col] = le\n",
        "print(\"Semua kolom kategorikal telah di-encode menjadi angka.\")\n",
        "\n",
        "# 5. Menangani Nilai Hilang (Missing Values) dengan IterativeImputer\n",
        "# Ini adalah metode canggih yang memprediksi nilai hilang berdasarkan fitur lain.\n",
        "imputer = IterativeImputer(max_iter=10, random_state=42)\n",
        "\n",
        "# Simpan nama kolom sebelum imputasi\n",
        "original_columns = df_clean.columns\n",
        "\n",
        "# Lakukan imputasi\n",
        "df_imputed_np = imputer.fit_transform(df_clean)\n",
        "\n",
        "# Konversi kembali ke DataFrame Pandas\n",
        "df_clean = pd.DataFrame(df_imputed_np, columns=original_columns)\n",
        "print(\"Semua nilai yang hilang (missing values) telah diisi menggunakan IterativeImputer.\")\n",
        "\n",
        "# 6. Verifikasi dan Simpan Data Bersih\n",
        "print(\"\\nMemeriksa kembali missing values setelah dibersihkan:\")\n",
        "print(df_clean.isnull().sum())\n",
        "\n",
        "# Membuat folder output jika belum ada\n",
        "output_dir = './heart_disease_preprocessing'\n",
        "if not os.path.exists(output_dir):\n",
        "    os.makedirs(output_dir)\n",
        "\n",
        "# Simpan dataset yang sudah bersih\n",
        "cleaned_file_path = os.path.join(output_dir, 'heart_cleaned.csv')\n",
        "df_clean.to_csv(cleaned_file_path, index=False)\n",
        "print(f\"\\nDataset bersih berhasil disimpan di: {cleaned_file_path}\")\n",
        "\n",
        "print(\"\\nContoh 5 baris pertama dari data yang sudah bersih:\")\n",
        "display(df_clean.head())"
      ]
    }
  ],
  "metadata": {
    "accelerator": "GPU",
    "colab": {
      "gpuType": "T4",
      "provenance": []
    },
    "kernelspec": {
      "display_name": "SMSML_Prayitno",
      "language": "python",
      "name": "python3"
    },
    "language_info": {
      "codemirror_mode": {
        "name": "ipython",
        "version": 3
      },
      "file_extension": ".py",
      "mimetype": "text/x-python",
      "name": "python",
      "nbconvert_exporter": "python",
      "pygments_lexer": "ipython3",
      "version": "3.13.7"
    }
  },
  "nbformat": 4,
  "nbformat_minor": 0
}
